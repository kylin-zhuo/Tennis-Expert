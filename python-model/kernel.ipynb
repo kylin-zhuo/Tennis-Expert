{
 "cells": [
  {
   "cell_type": "code",
   "execution_count": 5,
   "metadata": {
    "collapsed": true
   },
   "outputs": [],
   "source": [
    "import pandas as pd\n",
    "import numpy as np\n",
    "import matplotlib.pyplot as plt\n",
    "import seaborn as sns"
   ]
  },
  {
   "cell_type": "code",
   "execution_count": 6,
   "metadata": {
    "collapsed": true
   },
   "outputs": [],
   "source": [
    "from collections import Counter"
   ]
  },
  {
   "cell_type": "code",
   "execution_count": 7,
   "metadata": {
    "collapsed": true
   },
   "outputs": [],
   "source": [
    "data_path = '../tennis_atp-master/'\n",
    "with_davis_cup = True"
   ]
  },
  {
   "cell_type": "code",
   "execution_count": 8,
   "metadata": {
    "collapsed": false
   },
   "outputs": [],
   "source": [
    "year = 2012\n",
    "df = pd.read_csv(data_path + \"atp_matches_%s.csv\" % year)\n",
    "if not with_davis_cup:\n",
    "    df = df[df.tourney_name.str.contains(\"Davis\") == False]"
   ]
  },
  {
   "cell_type": "code",
   "execution_count": 9,
   "metadata": {
    "collapsed": false
   },
   "outputs": [
    {
     "name": "stdout",
     "output_type": "stream",
     "text": [
      "2012 has 3025 matches.\n"
     ]
    }
   ],
   "source": [
    "print(year, \"has %d matches.\" % len(df))"
   ]
  },
  {
   "cell_type": "code",
   "execution_count": 10,
   "metadata": {
    "collapsed": false
   },
   "outputs": [],
   "source": [
    "assert(len(df['tourney_id'].unique()) == len(df['tourney_name'].unique()))"
   ]
  },
  {
   "cell_type": "code",
   "execution_count": 11,
   "metadata": {
    "collapsed": false
   },
   "outputs": [
    {
     "name": "stdout",
     "output_type": "stream",
     "text": [
      "There are 148 tournaments in 2012.\n"
     ]
    }
   ],
   "source": [
    "print(\"There are %d tournaments in %s.\" % (len(df['tourney_id'].unique()), year))"
   ]
  },
  {
   "cell_type": "code",
   "execution_count": 13,
   "metadata": {
    "collapsed": false
   },
   "outputs": [],
   "source": [
    "tournaments = df['tourney_name'].unique()\n",
    "# print(sorted(tournaments))"
   ]
  },
  {
   "cell_type": "code",
   "execution_count": 12,
   "metadata": {
    "collapsed": false
   },
   "outputs": [
    {
     "name": "stdout",
     "output_type": "stream",
     "text": [
      "457 players play in 2012\n",
      "152 players never won a match.\n"
     ]
    }
   ],
   "source": [
    "winner_names = set(df['winner_name'])\n",
    "loser_names = set(df['loser_name'])\n",
    "number_players = len(winner_names | loser_names)\n",
    "print(\"%d players play in %s\" % (number_players, year))\n",
    "print(\"%d players never won a match.\" % len([l for l in loser_names if l not in winner_names]))"
   ]
  },
  {
   "cell_type": "markdown",
   "metadata": {},
   "source": [
    "## Generate winning and losing slice of a player\n",
    "The winning slice contains information when the player eventually won the match, and the losing slice vice versa."
   ]
  },
  {
   "cell_type": "code",
   "execution_count": 15,
   "metadata": {
    "collapsed": true
   },
   "outputs": [],
   "source": [
    "query_player = \"Novak Djokovic\""
   ]
  },
  {
   "cell_type": "code",
   "execution_count": 16,
   "metadata": {
    "collapsed": false
   },
   "outputs": [],
   "source": [
    "winning_slice = df[df[\"winner_name\"] == query_player]\n",
    "losing_slice = df[df[\"loser_name\"] == query_player]"
   ]
  },
  {
   "cell_type": "code",
   "execution_count": 35,
   "metadata": {
    "collapsed": true
   },
   "outputs": [],
   "source": [
    "def function(string):\n",
    "    return len(string.split()) == 3"
   ]
  },
  {
   "cell_type": "code",
   "execution_count": 41,
   "metadata": {
    "collapsed": false
   },
   "outputs": [
    {
     "data": {
      "text/plain": [
       "4"
      ]
     },
     "execution_count": 41,
     "metadata": {},
     "output_type": "execute_result"
    }
   ],
   "source": [
    "best_of_3 = winning_slice['best_of'] == 3\n",
    "best_of_5 = winning_slice['best_of'] == 5\n",
    "sum(map(lambda s: len(s.split()) == 3, winning_slice[best_of_3].score))\n",
    "sum(map(lambda s: len(s.split()) == 5, winning_slice[best_of_5].score))"
   ]
  },
  {
   "cell_type": "code",
   "execution_count": 24,
   "metadata": {
    "collapsed": false
   },
   "outputs": [
    {
     "data": {
      "text/plain": [
       "17"
      ]
     },
     "execution_count": 24,
     "metadata": {},
     "output_type": "execute_result"
    }
   ],
   "source": [
    "sum(map(lambda s: sum(map(lambda x:'7-6' in x, s.split())), winning_slice.score))"
   ]
  },
  {
   "cell_type": "code",
   "execution_count": null,
   "metadata": {
    "collapsed": false
   },
   "outputs": [],
   "source": [
    "# wins_count = Counter(df['winner_name'])\n",
    "# wins_count_sorted = sorted(wins_count.items(), key=lambda x:-x[1])\n",
    "# loses_count = Counter(df['loser_name'])\n",
    "# loses_count_sorted = sorted(loses_count.items(), key=lambda x:x[1])"
   ]
  },
  {
   "cell_type": "code",
   "execution_count": null,
   "metadata": {
    "collapsed": true
   },
   "outputs": [],
   "source": [
    "n_winning, n_losing = len(winning_slice), len(losing_slice)"
   ]
  },
  {
   "cell_type": "code",
   "execution_count": null,
   "metadata": {
    "collapsed": false
   },
   "outputs": [],
   "source": [
    "print(\"%s in %d: %d wins, %d losses.\" % (query_player, year, n_winning, n_losing))"
   ]
  },
  {
   "cell_type": "code",
   "execution_count": null,
   "metadata": {
    "collapsed": true
   },
   "outputs": [],
   "source": [
    "p1, p2= \"Roger Federer\", \"Rafael Nadal\""
   ]
  },
  {
   "cell_type": "code",
   "execution_count": null,
   "metadata": {
    "collapsed": false
   },
   "outputs": [],
   "source": [
    "df = pd.read_csv(data_path + \"atp_matches_%s.csv\" % year)\n",
    "df = df[((df['winner_name'] == p1) & (df['loser_name'] == p2)) | ((df['loser_name'] == p1) & (df['winner_name'] == p2))]\n"
   ]
  },
  {
   "cell_type": "code",
   "execution_count": null,
   "metadata": {
    "collapsed": false
   },
   "outputs": [],
   "source": [
    "df"
   ]
  },
  {
   "cell_type": "code",
   "execution_count": null,
   "metadata": {
    "collapsed": false
   },
   "outputs": [],
   "source": [
    "df1 = df[(df['winner_name'] == 'Roger Federer') & (df['loser_name'] == 'Rafael Nadal')]\n",
    "df2 = df[(df['loser_name'] == 'Roger Federer') & (df['winner_name'] == 'Rafael Nadal')]\n",
    "\n"
   ]
  },
  {
   "cell_type": "code",
   "execution_count": null,
   "metadata": {
    "collapsed": false
   },
   "outputs": [],
   "source": [
    "dict(df1.iloc[0])"
   ]
  },
  {
   "cell_type": "markdown",
   "metadata": {},
   "source": [
    "## Head-to-head "
   ]
  },
  {
   "cell_type": "code",
   "execution_count": null,
   "metadata": {
    "collapsed": true
   },
   "outputs": [],
   "source": [
    "head_2_heads = Counter(zip(df[\"winner_name\"], df[\"loser_name\"]))"
   ]
  },
  {
   "cell_type": "code",
   "execution_count": null,
   "metadata": {
    "collapsed": false
   },
   "outputs": [],
   "source": [
    "query_head2head = (\"Novak Djokovic\", \"Roger Federer\")\n",
    "print(\"H2H - %s %d:%d %s\" % (query_head2head[0], head_2_heads[query_head2head], head_2_heads[query_head2head[::-1]], query_head2head[1]))"
   ]
  },
  {
   "cell_type": "markdown",
   "metadata": {},
   "source": [
    "## Aces"
   ]
  },
  {
   "cell_type": "code",
   "execution_count": null,
   "metadata": {
    "collapsed": false
   },
   "outputs": [],
   "source": [
    "df"
   ]
  },
  {
   "cell_type": "code",
   "execution_count": null,
   "metadata": {
    "collapsed": false
   },
   "outputs": [],
   "source": [
    "df.columns"
   ]
  },
  {
   "cell_type": "markdown",
   "metadata": {},
   "source": [
    "计算胜场场均Ace，负场场均Ace，总场均Ace，以及上述各自的方差。"
   ]
  },
  {
   "cell_type": "markdown",
   "metadata": {},
   "source": [
    "同时也计算每个发球局平均发出的Ace"
   ]
  },
  {
   "cell_type": "code",
   "execution_count": null,
   "metadata": {
    "collapsed": false
   },
   "outputs": [],
   "source": [
    "df.w_svpt"
   ]
  },
  {
   "cell_type": "code",
   "execution_count": null,
   "metadata": {
    "collapsed": true
   },
   "outputs": [],
   "source": [
    "avg_ace_winning = np.sum(winning_slice.w_ace) / n_winning\n",
    "std_ace_winning = np.std(winning_slice.w_ace) \n",
    "avg_ace_losing = np.sum(losing_slice.l_ace) / n_losing\n",
    "std_ace_losing = np.std(losing_slice.l_ace)\n",
    "avg_ace_overall = (np.sum(winning_slice.w_ace) + np.sum(losing_slice.l_ace)) / (n_winning + n_losing)\n",
    "std_ace_overall = np.std(pd.concat([winning_slice.w_ace, losing_slice.l_ace]))"
   ]
  },
  {
   "cell_type": "code",
   "execution_count": null,
   "metadata": {
    "collapsed": false
   },
   "outputs": [],
   "source": [
    "np.sum(winning_slice.w_ace), n_winning"
   ]
  },
  {
   "cell_type": "code",
   "execution_count": null,
   "metadata": {
    "collapsed": false
   },
   "outputs": [],
   "source": [
    "print(\"Aces per match when winning: %f\" % avg_ace_winning)\n",
    "print(\"Aces per match when losing: %f\" % avg_ace_losing)\n",
    "print(\"Aces per match overall: %f\" % avg_ace_overall)"
   ]
  },
  {
   "cell_type": "code",
   "execution_count": null,
   "metadata": {
    "collapsed": true
   },
   "outputs": [],
   "source": [
    "avg_ace_winning_per_game = np.sum(winning_slice.w_ace) / np.sum(winning_slice['w_SvGms'])\n",
    "# std_ace_winning_per_game = np.std(winning_slice.w_ace) \n",
    "avg_ace_losing_per_game = np.sum(losing_slice.l_ace) / np.sum(losing_slice['l_SvGms'])\n",
    "# std_ace_losing_per_game = np.std(losing_slice.l_ace)\n",
    "avg_ace_overall_per_game = (np.sum(winning_slice.w_ace) + np.sum(losing_slice.l_ace)) / (np.sum(winning_slice['w_SvGms']) +  np.sum(losing_slice['l_SvGms']))\n",
    "# std_ace_overall_per_game = np.std(pd.concat([winning_slice.w_ace, losing_slice.l_ace]))"
   ]
  },
  {
   "cell_type": "code",
   "execution_count": null,
   "metadata": {
    "collapsed": false
   },
   "outputs": [],
   "source": [
    "print(\"Aces per service game when winning: %f\" % avg_ace_winning_per_game)\n",
    "print(\"Aces per service game when losing: %f\" % avg_ace_losing_per_game)\n",
    "print(\"Aces per service game overall: %f\" % avg_ace_overall_per_game)"
   ]
  },
  {
   "cell_type": "code",
   "execution_count": null,
   "metadata": {
    "collapsed": true
   },
   "outputs": [],
   "source": [
    "ace_rate_winning = np.sum(winning_slice.w_ace) / np.sum(winning_slice['w_svpt'])\n",
    "ace_rate_losing = np.sum(losing_slice.l_ace) / np.sum(losing_slice['l_svpt'])\n",
    "ace_rate_overall = (np.sum(winning_slice.w_ace) + np.sum(losing_slice.l_ace)) / (np.sum(winning_slice['w_svpt']) + np.sum(losing_slice['l_svpt']))"
   ]
  },
  {
   "cell_type": "code",
   "execution_count": null,
   "metadata": {
    "collapsed": false
   },
   "outputs": [],
   "source": [
    "print(\"Aces rate when winning: %f\" % ace_rate_winning)\n",
    "print(\"Aces rate when losing: %f\" % ace_rate_losing)\n",
    "print(\"Aces rate overall: %f\" % ace_rate_overall)"
   ]
  },
  {
   "cell_type": "code",
   "execution_count": null,
   "metadata": {
    "collapsed": false
   },
   "outputs": [],
   "source": [
    "# winning_slice[['w_ace', 'w_svpt']].sort_values(by=['w_ace'])\n",
    "winning_slice"
   ]
  },
  {
   "cell_type": "code",
   "execution_count": null,
   "metadata": {
    "collapsed": true
   },
   "outputs": [],
   "source": [
    "import flask"
   ]
  },
  {
   "cell_type": "code",
   "execution_count": null,
   "metadata": {
    "collapsed": true
   },
   "outputs": [],
   "source": []
  }
 ],
 "metadata": {
  "kernelspec": {
   "display_name": "Python 3",
   "language": "python",
   "name": "python3"
  },
  "language_info": {
   "codemirror_mode": {
    "name": "ipython",
    "version": 3
   },
   "file_extension": ".py",
   "mimetype": "text/x-python",
   "name": "python",
   "nbconvert_exporter": "python",
   "pygments_lexer": "ipython3",
   "version": "3.6.2"
  }
 },
 "nbformat": 4,
 "nbformat_minor": 2
}
